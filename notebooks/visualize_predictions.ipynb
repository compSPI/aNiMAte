{
 "cells": [
  {
   "cell_type": "code",
   "execution_count": null,
   "metadata": {
    "ExecuteTime": {
     "end_time": "2021-10-11T20:52:15.522970Z",
     "start_time": "2021-10-11T20:52:15.482286Z"
    }
   },
   "outputs": [],
   "source": [
    "%matplotlib inline\n",
    "import os, sys\n",
    "import torch\n",
    "import configargparse\n",
    "import numpy as np\n",
    "import matplotlib.pyplot as plt\n",
    "module_path = os.path.abspath(os.path.join('../..'))\n",
    "if module_path not in sys.path:\n",
    "    sys.path.append(module_path)\n",
    "module_path = os.path.abspath(os.path.join('../src/experiment_scripts'))\n",
    "if module_path not in sys.path:\n",
    "    sys.path.append(module_path)\n",
    "from cryonettorch.src.experiment_scripts.main import init_config\n",
    "from cryonettorch.src.atomic_utils import AtomicModel\n",
    "from cryonettorch.src.dynamics_utils import DynamicsModelNMA\n",
    "from cryonettorch.src.prody_utils import read_prody_model\n",
    "from prody import writePDB\n",
    "import pykeops\n",
    "\n",
    "##### Set the SLURM job ID here ####\n",
    "JOB_ID = '8209068'\n",
    "\n",
    "#### Should not need to change the following lines ####\n",
    "EVAL_PATH = f'../logs/{JOB_ID}/eval/'\n",
    "CONFIG_PATH =  f'../logs/{JOB_ID}_0/config.ini'\n",
    "\n",
    "pykeops.set_verbose(False)\n",
    "pykeops.set_build_folder('tmp/pykeops')\n",
    "\n",
    "gt = torch.load(os.path.join(EVAL_PATH, 'gt.pt'), map_location=torch.device('cpu'))\n",
    "inp = torch.load(os.path.join(EVAL_PATH, 'input.pt'), map_location=torch.device('cpu'))\n",
    "pred = torch.load(os.path.join(EVAL_PATH, 'output.pt'), map_location=torch.device('cpu'))\n",
    "\n",
    "parser = configargparse.ArgParser()\n",
    "parser.add_argument('-c', '--config', required=True, is_config_file=True,\n",
    "                    help='Path to config file.', default=CONFIG_PATH)\n",
    "parser.add_argument(\"-f\", \"--fff\", help=\"a dummy argument to fool ipython\", default=\"1\")\n",
    "init_config(parser)  # use the default arguments from main.init_config to stay synchronized\n",
    "config = parser.parse_args()\n",
    "\n",
    "atomic_model = AtomicModel(config.atomic_pdb, config.atomic_clean_pdb, config.atomic_center,\n",
    "                                   pdb_out=os.path.join('.', 'curated_gemmi.pdb'))\n",
    "atomic_model = DynamicsModelNMA(atomic_model, atomic_clean_pdb=config.atomic_clean_pdb,\n",
    "                                atomic_cg_selection=config.atomic_cg_selection,\n",
    "                                atomic_nma_cutoff=config.atomic_nma_cutoff,\n",
    "                                atomic_nma_gamma=config.atomic_nma_gamma,\n",
    "                                atomic_nma_number_modes=config.atomic_nma_number_modes,\n",
    "                                atomic_nma_pkl=config.atomic_nma_pkl if \"atomic_nma_pkl\" in config else None,\n",
    "                                by_chain=config.atomic_nma_by_chain)\n",
    "prody_model = read_prody_model('curated_gemmi.pdb')"
   ]
  },
  {
   "cell_type": "markdown",
   "metadata": {},
   "source": [
    "## Visualize a projection prediction"
   ]
  },
  {
   "cell_type": "code",
   "execution_count": null,
   "metadata": {
    "ExecuteTime": {
     "end_time": "2021-10-11T20:54:46.730742Z",
     "start_time": "2021-10-11T20:54:46.608024Z"
    }
   },
   "outputs": [],
   "source": [
    "gt_projection = np.squeeze(gt['proj'][0].numpy())\n",
    "pred_projection = np.squeeze(pred['proj'][0].numpy())\n",
    "\n",
    "diff = pred_projection-gt_projection\n",
    "\n",
    "fig, axes = plt.subplots(nrows=1, ncols=2, figsize=(5, 3))\n",
    "axes[0].set_title(\"Prediction\")\n",
    "img = axes[0].imshow(pred_projection)\n",
    "fig.colorbar(img, ax=axes[0])\n",
    "axes[1].set_title(\"GT\")\n",
    "img2 = axes[1].imshow(gt_projection)\n",
    "fig.colorbar(img2, ax=axes[1])\n",
    "\n",
    "\n",
    "plt.matshow(diff)\n",
    "plt.colorbar()\n",
    "print((diff**2).mean())"
   ]
  },
  {
   "cell_type": "markdown",
   "metadata": {},
   "source": [
    "### Plot NMA coordinates"
   ]
  },
  {
   "cell_type": "code",
   "execution_count": null,
   "metadata": {
    "ExecuteTime": {
     "end_time": "2021-10-11T21:13:11.822452Z",
     "start_time": "2021-10-11T21:13:11.751976Z"
    },
    "scrolled": true
   },
   "outputs": [],
   "source": [
    "import seaborn as sns\n",
    "from sklearn.decomposition import PCA\n",
    "   \n",
    "plot_all_modes = True\n",
    "pred_nma_coords = (pred['nma_coords'].numpy()).copy()\n",
    "if config.atomic_global_nma:\n",
    "    print(pred['global_nma_coords'][0].numpy())\n",
    "    pred_nma_coords += (pred['global_nma_coords'].numpy())\n",
    "\n",
    "\n",
    "def filter_nma(pred_nma_coords, sigma_factor=3.0):\n",
    "    filter_idx = []\n",
    "    for i in range(pred_nma_coords.shape[-1]):\n",
    "        filter_idx.extend(np.where(abs(pred_nma_coords[...,i] - np.median(pred_nma_coords[...,i]))\n",
    "                           > sigma_factor * pred_nma_coords[...,i].std())[0])\n",
    "    filter_idx = np.unique(np.array(filter_idx))\n",
    "    if filter_idx.shape[0] == 0:\n",
    "        return pred_nma_coords, None\n",
    "    return np.delete(pred_nma_coords, filter_idx, 0), filter_idx\n",
    "\n",
    "filter_idx = None\n",
    "# pred_nma_coords, filter_idx = filter_nma(pred_nma_coords, 1.)\n",
    "print(pred_nma_coords.shape)\n",
    "\n",
    "sim = False\n",
    "if 'nma_alphas' in gt.keys():\n",
    "    gt_nma_coords = (gt['nma_alphas'].numpy()).copy()\n",
    "    c = np.squeeze(gt['pdb_index'].cpu().numpy())\n",
    "    if filter_idx is not None:\n",
    "        c = np.delete(c, filter_idx, 0)\n",
    "    num_atoms = prody_model.getCoords().shape[0]\n",
    "    n_modes = pred_nma_coords.shape[2]\n",
    "    gt_nma_coords /= np.sqrt(num_atoms/n_modes)\n",
    "    sim = True\n",
    "elif 'nma_coords' in gt.keys():\n",
    "    gt_nma_coords = (gt['nma_coords'].numpy()).copy()\n",
    "    sim = True\n",
    "if sim and filter_idx is not None:\n",
    "    gt_nma_coords = np.delete(gt_nma_coords, filter_idx, 0)\n",
    "    \n",
    "pca = None\n",
    "if pred_nma_coords.shape[-1] > 1 and not plot_all_modes:\n",
    "    pred_nma_coords = np.squeeze(pred_nma_coords)\n",
    "    pca = PCA(n_components=1)\n",
    "    pred_nma_coords = pca.fit_transform(pred_nma_coords) #TSNE(n_components=1, learning_rate='auto', init='pca').fit_transform(pred_nma_coords)\n",
    "    print(pred_nma_coords.shape)\n",
    "    \n",
    "for i in range(pred_nma_coords.shape[-1]):\n",
    "    pred_nma = pred_nma_coords[...,i]\n",
    "    if(pred_nma.ndim > 1):\n",
    "        pred_nma = np.squeeze(pred_nma)\n",
    "    if sim:\n",
    "        gt_nma = gt_nma_coords[...,i]\n",
    "        plt.figure()\n",
    "        plt.title(f'NMA Mode {i+1}')\n",
    "        plt.scatter(gt_nma, pred_nma, alpha=0.5, label='prediction')\n",
    "        plt.plot(gt_nma, gt_nma, color='r', label=\"perfect\")\n",
    "        plt.legend()\n",
    "        ax = sns.jointplot(x=c, y=pred_nma, kind=\"kde\", fill=True, cmap='Blues')\n",
    "        ax.set_axis_labels('Ground Truth Model',\n",
    "                           f'PC 1: EV({pca.explained_variance_ratio_[0]})' if pca else 'Mode 1 Amplitudes')\n",
    "#         sns.jointplot(x=c, y=pred_nma, kind=\"scatter\", alpha=0.1)\n",
    "    plt.figure()\n",
    "    plt.title(f'NMA Mode {i+1}')\n",
    "    if sim:\n",
    "        plt.hist(gt_nma, bins=50, density=True, label='GT')\n",
    "    plt.hist(pred_nma, bins=100, histtype='step', density=True, label='Prediction')\n",
    "    plt.legend()"
   ]
  },
  {
   "cell_type": "markdown",
   "metadata": {},
   "source": [
    "### Save Conformations to PDB"
   ]
  },
  {
   "cell_type": "code",
   "execution_count": null,
   "metadata": {
    "pycharm": {
     "name": "#%%\n"
    }
   },
   "outputs": [],
   "source": [
    "%matplotlib inline\n",
    "from sklearn.decomposition import PCA\n",
    "\n",
    "sample = 2 # how many frames (atomic models) to sample from latent space\n",
    "sample_frac = 0.99 # for uniform sampling, use the (1-frac) percentile to (frac) percentile\n",
    "uniform_sampling = True\n",
    "\n",
    "\n",
    "z = np.squeeze(pred['nma_coords'].cpu().numpy())\n",
    "if config.atomic_global_nma:\n",
    "    z += (pred['global_nma_coords'].numpy()).squeeze()\n",
    "# z, _ = filter_nma(z, 1.)\n",
    "print(z.shape)\n",
    "pca = PCA(z.shape[1])\n",
    "pca.fit(z)\n",
    "pc = pca.transform(z)\n",
    "\n",
    "ii,jj = [0, 1]\n",
    "\n",
    "s = np.zeros((sample, z.shape[1]))\n",
    "if uniform_sampling:\n",
    "    s[:,ii] = np.linspace(np.quantile(pc[:,ii], 1-sample_frac), \n",
    "                          np.quantile(pc[:,ii], sample_frac), sample)\n",
    "else:\n",
    "    si = np.random.choice(pc.shape[0], sample, replace=False)\n",
    "    s[:,ii] = pc[si, ii]\n",
    "    s[:,jj] = pc[si, jj]\n",
    "    s = s[np.argsort(s[:,ii])]\n",
    "\n",
    "plot = sns.jointplot(x=pc[:,ii], y=pc[:,jj], kind=\"hex\", bins=\"log\")\n",
    "plot.set_axis_labels('PC{} (EV: {:.2f})'.format(ii+1, pca.explained_variance_ratio_[ii]),\n",
    "                     'PC{} (EV: {:.2f})'.format(jj+1, pca.explained_variance_ratio_[jj]), fontsize=16)\n",
    "sns.scatterplot(x=s[:,ii], y=s[:,jj], c=np.arange(len(s)), cmap='hsv', edgecolor='k', s=100, ax=plot.ax_joint)\n",
    "\n",
    "x = pca.inverse_transform(s)\n",
    "\n",
    "sampled_pred = torch.as_tensor(x, dtype=torch.float32)[:, None, :]\n",
    "    \n",
    "print(sampled_pred.shape)\n",
    "\n",
    "pred_coords = atomic_model(sampled_pred)[0]\n",
    "\n",
    "traj = prody_model.copy()\n",
    "for pred_coordset in pred_coords:\n",
    "    traj.addCoordset(pred_coordset)\n",
    "writePDB(\"pred_trajectory.pdb\", traj, hybrid36=True)"
   ]
  }
 ],
 "metadata": {
  "kernelspec": {
   "display_name": "Python 3",
   "language": "python",
   "name": "python3"
  },
  "language_info": {
   "codemirror_mode": {
    "name": "ipython",
    "version": 3
   },
   "file_extension": ".py",
   "mimetype": "text/x-python",
   "name": "python",
   "nbconvert_exporter": "python",
   "pygments_lexer": "ipython3",
   "version": "3.7.13"
  }
 },
 "nbformat": 4,
 "nbformat_minor": 4
}